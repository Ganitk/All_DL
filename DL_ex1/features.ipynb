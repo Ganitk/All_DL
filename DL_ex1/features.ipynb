{
  "nbformat": 4,
  "nbformat_minor": 0,
  "metadata": {
    "kernelspec": {
      "display_name": "Python 3",
      "language": "python",
      "name": "python3"
    },
    "language_info": {
      "codemirror_mode": {
        "name": "ipython",
        "version": 3
      },
      "file_extension": ".py",
      "mimetype": "text/x-python",
      "name": "python",
      "nbconvert_exporter": "python",
      "pygments_lexer": "ipython3",
      "version": "3.7.1"
    },
    "colab": {
      "name": "features.ipynb",
      "provenance": []
    }
  },
  "cells": [
    {
      "cell_type": "markdown",
      "metadata": {
        "tags": [
          "pdf-title"
        ],
        "id": "GA3gTD02B7Cy",
        "colab_type": "text"
      },
      "source": [
        "# Image features exercise\n",
        "*Complete and hand in this completed worksheet (including its outputs and any supporting code outside of the worksheet) with your assignment submission. For more details see the [assignments page](http://vision.stanford.edu/teaching/cs231n/assignments.html) on the course website.*\n",
        "\n",
        "We have seen that we can achieve reasonable performance on an image classification task by training a linear classifier on the pixels of the input image. In this exercise we will show that we can improve our classification performance by training linear classifiers not on raw pixels but on features that are computed from the raw pixels.\n",
        "\n",
        "All of your work for this exercise will be done in this notebook."
      ]
    },
    {
      "cell_type": "code",
      "metadata": {
        "id": "mJ-9KzwUB_UW",
        "colab_type": "code",
        "outputId": "acdeabcb-3672-467c-c070-7e902724346b",
        "colab": {
          "base_uri": "https://localhost:8080/",
          "height": 120
        }
      },
      "source": [
        "from google.colab import drive\n",
        "import os\n",
        "drive.mount('/content/drive', force_remount=True)\n",
        "os.chdir('/content/drive/My Drive/DL')"
      ],
      "execution_count": 1,
      "outputs": [
        {
          "output_type": "stream",
          "text": [
            "Go to this URL in a browser: https://accounts.google.com/o/oauth2/auth?client_id=947318989803-6bn6qk8qdgf4n4g3pfee6491hc0brc4i.apps.googleusercontent.com&redirect_uri=urn%3aietf%3awg%3aoauth%3a2.0%3aoob&response_type=code&scope=email%20https%3a%2f%2fwww.googleapis.com%2fauth%2fdocs.test%20https%3a%2f%2fwww.googleapis.com%2fauth%2fdrive%20https%3a%2f%2fwww.googleapis.com%2fauth%2fdrive.photos.readonly%20https%3a%2f%2fwww.googleapis.com%2fauth%2fpeopleapi.readonly\n",
            "\n",
            "Enter your authorization code:\n",
            "··········\n",
            "Mounted at /content/drive\n"
          ],
          "name": "stdout"
        }
      ]
    },
    {
      "cell_type": "code",
      "metadata": {
        "id": "rYO5b7qRCdrh",
        "colab_type": "code",
        "outputId": "4f41cdfe-087a-40a0-a9b9-78130cf8c0ef",
        "colab": {
          "base_uri": "https://localhost:8080/",
          "height": 267
        }
      },
      "source": [
        "#@title Install requiremnts\n",
        "#@markdown Please run this cell to install python dependencies.\n",
        "!pip install scipy==1.1.0\n",
        "\n",
        "# Install pillow=5.4.1\n",
        "!pip install -U -q \"pillow~=5.4.1\"\n"
      ],
      "execution_count": 2,
      "outputs": [
        {
          "output_type": "stream",
          "text": [
            "Collecting scipy==1.1.0\n",
            "\u001b[?25l  Downloading https://files.pythonhosted.org/packages/a8/0b/f163da98d3a01b3e0ef1cab8dd2123c34aee2bafbb1c5bffa354cc8a1730/scipy-1.1.0-cp36-cp36m-manylinux1_x86_64.whl (31.2MB)\n",
            "\u001b[K     |████████████████████████████████| 31.2MB 140kB/s \n",
            "\u001b[?25hRequirement already satisfied: numpy>=1.8.2 in /usr/local/lib/python3.6/dist-packages (from scipy==1.1.0) (1.18.2)\n",
            "\u001b[31mERROR: tensorflow-federated 0.12.0 has requirement tensorflow~=2.1.0, but you'll have tensorflow 1.15.0 which is incompatible.\u001b[0m\n",
            "\u001b[31mERROR: tensorflow-federated 0.12.0 has requirement tensorflow-addons~=0.7.0, but you'll have tensorflow-addons 0.8.3 which is incompatible.\u001b[0m\n",
            "\u001b[31mERROR: plotnine 0.6.0 has requirement scipy>=1.2.0, but you'll have scipy 1.1.0 which is incompatible.\u001b[0m\n",
            "\u001b[31mERROR: albumentations 0.1.12 has requirement imgaug<0.2.7,>=0.2.5, but you'll have imgaug 0.2.9 which is incompatible.\u001b[0m\n",
            "Installing collected packages: scipy\n",
            "  Found existing installation: scipy 1.4.1\n",
            "    Uninstalling scipy-1.4.1:\n",
            "      Successfully uninstalled scipy-1.4.1\n",
            "Successfully installed scipy-1.1.0\n",
            "\u001b[K     |████████████████████████████████| 2.0MB 2.7MB/s \n",
            "\u001b[31mERROR: albumentations 0.1.12 has requirement imgaug<0.2.7,>=0.2.5, but you'll have imgaug 0.2.9 which is incompatible.\u001b[0m\n",
            "\u001b[?25h"
          ],
          "name": "stdout"
        }
      ]
    },
    {
      "cell_type": "code",
      "metadata": {
        "tags": [
          "pdf-ignore"
        ],
        "id": "OCVv1rRRB7DL",
        "colab_type": "code",
        "colab": {
          "base_uri": "https://localhost:8080/",
          "height": 50
        },
        "outputId": "9ae952e0-2216-48a5-aa9d-673d84c18fb9"
      },
      "source": [
        "import random\n",
        "import numpy as np\n",
        "from cs231n.data_utils import load_CIFAR10\n",
        "import matplotlib.pyplot as plt\n",
        "\n",
        "\n",
        "%matplotlib inline\n",
        "plt.rcParams['figure.figsize'] = (10.0, 8.0) # set default size of plots\n",
        "plt.rcParams['image.interpolation'] = 'nearest'\n",
        "plt.rcParams['image.cmap'] = 'gray'\n",
        "\n",
        "# for auto-reloading extenrnal modules\n",
        "# see http://stackoverflow.com/questions/1907993/autoreload-of-modules-in-ipython\n",
        "%load_ext autoreload\n",
        "%autoreload 2"
      ],
      "execution_count": 4,
      "outputs": [
        {
          "output_type": "stream",
          "text": [
            "The autoreload extension is already loaded. To reload it, use:\n",
            "  %reload_ext autoreload\n"
          ],
          "name": "stdout"
        }
      ]
    },
    {
      "cell_type": "markdown",
      "metadata": {
        "tags": [
          "pdf-ignore"
        ],
        "id": "WG6mTGn_B7Dw",
        "colab_type": "text"
      },
      "source": [
        "## Load data\n",
        "Similar to previous exercises, we will load CIFAR-10 data from disk."
      ]
    },
    {
      "cell_type": "code",
      "metadata": {
        "tags": [
          "pdf-ignore"
        ],
        "id": "fb4BwpxEB7D0",
        "colab_type": "code",
        "colab": {}
      },
      "source": [
        "from cs231n.features import color_histogram_hsv, hog_feature\n",
        "\n",
        "def get_CIFAR10_data(num_training=49000, num_validation=1000, num_test=1000):\n",
        "    # Load the raw CIFAR-10 data\n",
        "    cifar10_dir = 'cs231n/datasets/cifar-10-batches-py'\n",
        "\n",
        "    # Cleaning up variables to prevent loading data multiple times (which may cause memory issue)\n",
        "    try:\n",
        "       del X_train, y_train\n",
        "       del X_test, y_test\n",
        "       print('Clear previously loaded data.')\n",
        "    except:\n",
        "       pass\n",
        "\n",
        "    X_train, y_train, X_test, y_test = load_CIFAR10(cifar10_dir)\n",
        "    \n",
        "    # Subsample the data\n",
        "    mask = list(range(num_training, num_training + num_validation))\n",
        "    X_val = X_train[mask]\n",
        "    y_val = y_train[mask]\n",
        "    mask = list(range(num_training))\n",
        "    X_train = X_train[mask]\n",
        "    y_train = y_train[mask]\n",
        "    mask = list(range(num_test))\n",
        "    X_test = X_test[mask]\n",
        "    y_test = y_test[mask]\n",
        "    \n",
        "    return X_train, y_train, X_val, y_val, X_test, y_test\n",
        "\n",
        "X_train, y_train, X_val, y_val, X_test, y_test = get_CIFAR10_data()"
      ],
      "execution_count": 0,
      "outputs": []
    },
    {
      "cell_type": "markdown",
      "metadata": {
        "tags": [
          "pdf-ignore"
        ],
        "id": "iarTPRqOB7EF",
        "colab_type": "text"
      },
      "source": [
        "## Extract Features\n",
        "For each image we will compute a Histogram of Oriented\n",
        "Gradients (HOG) as well as a color histogram using the hue channel in HSV\n",
        "color space. We form our final feature vector for each image by concatenating\n",
        "the HOG and color histogram feature vectors.\n",
        "\n",
        "Roughly speaking, HOG should capture the texture of the image while ignoring\n",
        "color information, and the color histogram represents the color of the input\n",
        "image while ignoring texture. As a result, we expect that using both together\n",
        "ought to work better than using either alone. Verifying this assumption would\n",
        "be a good thing to try for your own interest.\n",
        "\n",
        "The `hog_feature` and `color_histogram_hsv` functions both operate on a single\n",
        "image and return a feature vector for that image. The extract_features\n",
        "function takes a set of images and a list of feature functions and evaluates\n",
        "each feature function on each image, storing the results in a matrix where\n",
        "each column is the concatenation of all feature vectors for a single image."
      ]
    },
    {
      "cell_type": "code",
      "metadata": {
        "scrolled": true,
        "tags": [
          "pdf-ignore"
        ],
        "id": "2w0jFQMNB7EM",
        "colab_type": "code",
        "outputId": "aeb7236d-58db-43b8-d307-38a940ad3f27",
        "colab": {
          "base_uri": "https://localhost:8080/",
          "height": 833
        }
      },
      "source": [
        "from cs231n.features import *\n",
        "\n",
        "num_color_bins = 10 # Number of bins in the color histogram\n",
        "feature_fns = [hog_feature, lambda img: color_histogram_hsv(img, nbin=num_color_bins)]\n",
        "X_train_feats = extract_features(X_train, feature_fns, verbose=True)\n",
        "X_val_feats = extract_features(X_val, feature_fns)\n",
        "X_test_feats = extract_features(X_test, feature_fns)\n",
        "\n",
        "# Preprocessing: Subtract the mean feature\n",
        "mean_feat = np.mean(X_train_feats, axis=0, keepdims=True)\n",
        "X_train_feats -= mean_feat\n",
        "X_val_feats -= mean_feat\n",
        "X_test_feats -= mean_feat\n",
        "\n",
        "# Preprocessing: Divide by standard deviation. This ensures that each feature\n",
        "# has roughly the same scale.\n",
        "std_feat = np.std(X_train_feats, axis=0, keepdims=True)\n",
        "X_train_feats /= std_feat\n",
        "X_val_feats /= std_feat\n",
        "X_test_feats /= std_feat\n",
        "\n",
        "# Preprocessing: Add a bias dimension\n",
        "X_train_feats = np.hstack([X_train_feats, np.ones((X_train_feats.shape[0], 1))])\n",
        "X_val_feats = np.hstack([X_val_feats, np.ones((X_val_feats.shape[0], 1))])\n",
        "X_test_feats = np.hstack([X_test_feats, np.ones((X_test_feats.shape[0], 1))])"
      ],
      "execution_count": 9,
      "outputs": [
        {
          "output_type": "stream",
          "text": [
            "Done extracting features for 1000 / 49000 images\n",
            "Done extracting features for 2000 / 49000 images\n",
            "Done extracting features for 3000 / 49000 images\n",
            "Done extracting features for 4000 / 49000 images\n",
            "Done extracting features for 5000 / 49000 images\n",
            "Done extracting features for 6000 / 49000 images\n",
            "Done extracting features for 7000 / 49000 images\n",
            "Done extracting features for 8000 / 49000 images\n",
            "Done extracting features for 9000 / 49000 images\n",
            "Done extracting features for 10000 / 49000 images\n",
            "Done extracting features for 11000 / 49000 images\n",
            "Done extracting features for 12000 / 49000 images\n",
            "Done extracting features for 13000 / 49000 images\n",
            "Done extracting features for 14000 / 49000 images\n",
            "Done extracting features for 15000 / 49000 images\n",
            "Done extracting features for 16000 / 49000 images\n",
            "Done extracting features for 17000 / 49000 images\n",
            "Done extracting features for 18000 / 49000 images\n",
            "Done extracting features for 19000 / 49000 images\n",
            "Done extracting features for 20000 / 49000 images\n",
            "Done extracting features for 21000 / 49000 images\n",
            "Done extracting features for 22000 / 49000 images\n",
            "Done extracting features for 23000 / 49000 images\n",
            "Done extracting features for 24000 / 49000 images\n",
            "Done extracting features for 25000 / 49000 images\n",
            "Done extracting features for 26000 / 49000 images\n",
            "Done extracting features for 27000 / 49000 images\n",
            "Done extracting features for 28000 / 49000 images\n",
            "Done extracting features for 29000 / 49000 images\n",
            "Done extracting features for 30000 / 49000 images\n",
            "Done extracting features for 31000 / 49000 images\n",
            "Done extracting features for 32000 / 49000 images\n",
            "Done extracting features for 33000 / 49000 images\n",
            "Done extracting features for 34000 / 49000 images\n",
            "Done extracting features for 35000 / 49000 images\n",
            "Done extracting features for 36000 / 49000 images\n",
            "Done extracting features for 37000 / 49000 images\n",
            "Done extracting features for 38000 / 49000 images\n",
            "Done extracting features for 39000 / 49000 images\n",
            "Done extracting features for 40000 / 49000 images\n",
            "Done extracting features for 41000 / 49000 images\n",
            "Done extracting features for 42000 / 49000 images\n",
            "Done extracting features for 43000 / 49000 images\n",
            "Done extracting features for 44000 / 49000 images\n",
            "Done extracting features for 45000 / 49000 images\n",
            "Done extracting features for 46000 / 49000 images\n",
            "Done extracting features for 47000 / 49000 images\n",
            "Done extracting features for 48000 / 49000 images\n",
            "Done extracting features for 49000 / 49000 images\n"
          ],
          "name": "stdout"
        }
      ]
    },
    {
      "cell_type": "markdown",
      "metadata": {
        "id": "s49b7Jc3B7Ef",
        "colab_type": "text"
      },
      "source": [
        "## Train SVM on features\n",
        "Using the multiclass SVM code developed earlier in the assignment, train SVMs on top of the features extracted above; this should achieve better results than training SVMs directly on top of raw pixels."
      ]
    },
    {
      "cell_type": "code",
      "metadata": {
        "tags": [
          "code"
        ],
        "id": "jF3XIHHqB7Ek",
        "colab_type": "code",
        "colab": {
          "base_uri": "https://localhost:8080/",
          "height": 1000
        },
        "outputId": "b52793c0-6311-45ce-b2be-f2fd124dee67"
      },
      "source": [
        "# Use the validation set to tune the learning rate and regularization strength\n",
        "\n",
        "from cs231n.classifiers.linear_classifier import LinearSVM\n",
        "\n",
        "learning_rates = [1e-9, 1e-8, 1e-7]\n",
        "regularization_strengths = [5e-4, 5e-5, 5e-6]\n",
        "\n",
        "results = {}\n",
        "best_val = -1\n",
        "best_svm = None\n",
        "\n",
        "################################################################################\n",
        "# TODO:                                                                        #\n",
        "# Use the validation set to set the learning rate and regularization strength. #\n",
        "# This should be identical to the validation that you did for the SVM; save    #\n",
        "# the best trained classifer in best_svm. You might also want to play          #\n",
        "# with different numbers of bins in the color histogram. If you are careful    #\n",
        "# you should be able to get accuracy of near 0.44 on the validation set.       #\n",
        "################################################################################\n",
        "# *****START OF YOUR CODE (DO NOT DELETE/MODIFY THIS LINE)*****\n",
        "\n",
        "print(X_train_feats.shape)\n",
        "for l_rate in learning_rates:\n",
        "    for reg in regularization_strengths:\n",
        "        svm = LinearSVM()\n",
        "        loss_hist = svm.train(X_train_feats, y_train, learning_rate=l_rate, reg=reg,\n",
        "                              num_iters=1000, verbose=True)\n",
        "        y_train_pred = svm.predict(X_train_feats)\n",
        "        y_val_pred = svm.predict(X_val_feats)\n",
        "        train_acc = np.mean(y_train == y_train_pred)\n",
        "        val_accuracy = np.mean(y_val == y_val_pred)\n",
        "        if val_accuracy > best_val:\n",
        "            best_val = val_accuracy\n",
        "            best_svm = svm\n",
        "        results[(l_rate,reg)] = (train_acc, val_accuracy) \n",
        "\n",
        "# *****END OF YOUR CODE (DO NOT DELETE/MODIFY THIS LINE)*****\n",
        "\n",
        "# Print out results.\n",
        "for lr, reg in sorted(results):\n",
        "    train_accuracy, val_accuracy = results[(lr, reg)]\n",
        "    print('lr %e reg %e train accuracy: %f val accuracy: %f' % (\n",
        "                lr, reg, train_accuracy, val_accuracy))\n",
        "    \n",
        "print('best validation accuracy achieved during cross-validation: %f' % best_val)"
      ],
      "execution_count": 16,
      "outputs": [
        {
          "output_type": "stream",
          "text": [
            "(49000, 155)\n",
            "iteration 0 / 1000: loss 8.547438\n",
            "iteration 100 / 1000: loss 8.695950\n",
            "iteration 200 / 1000: loss 8.378142\n",
            "iteration 300 / 1000: loss 8.236209\n",
            "iteration 400 / 1000: loss 8.621791\n",
            "iteration 500 / 1000: loss 8.488108\n",
            "iteration 600 / 1000: loss 8.566166\n",
            "iteration 700 / 1000: loss 8.497165\n",
            "iteration 800 / 1000: loss 8.651239\n",
            "iteration 900 / 1000: loss 8.527609\n",
            "iteration 0 / 1000: loss 8.746147\n",
            "iteration 100 / 1000: loss 8.524935\n",
            "iteration 200 / 1000: loss 8.496318\n",
            "iteration 300 / 1000: loss 8.720253\n",
            "iteration 400 / 1000: loss 8.651394\n",
            "iteration 500 / 1000: loss 4.350000\n",
            "iteration 600 / 1000: loss 8.676023\n",
            "iteration 700 / 1000: loss 8.727656\n",
            "iteration 800 / 1000: loss 8.615719\n",
            "iteration 900 / 1000: loss 8.476507\n",
            "iteration 0 / 1000: loss 8.616890\n",
            "iteration 100 / 1000: loss 8.549746\n",
            "iteration 200 / 1000: loss 8.477391\n",
            "iteration 300 / 1000: loss 8.561185\n",
            "iteration 400 / 1000: loss 8.556142\n",
            "iteration 500 / 1000: loss 8.611145\n",
            "iteration 600 / 1000: loss 8.399283\n",
            "iteration 700 / 1000: loss 4.415000\n",
            "iteration 800 / 1000: loss 8.727026\n",
            "iteration 900 / 1000: loss 8.695302\n",
            "iteration 0 / 1000: loss 8.534636\n",
            "iteration 100 / 1000: loss 8.267580\n",
            "iteration 200 / 1000: loss 8.370857\n",
            "iteration 300 / 1000: loss 8.435870\n",
            "iteration 400 / 1000: loss 8.357024\n",
            "iteration 500 / 1000: loss 8.511045\n",
            "iteration 600 / 1000: loss 4.485001\n",
            "iteration 700 / 1000: loss 8.479000\n",
            "iteration 800 / 1000: loss 8.324726\n",
            "iteration 900 / 1000: loss 8.620253\n",
            "iteration 0 / 1000: loss 8.628275\n",
            "iteration 100 / 1000: loss 8.529351\n",
            "iteration 200 / 1000: loss 8.236444\n",
            "iteration 300 / 1000: loss 8.301880\n",
            "iteration 400 / 1000: loss 8.407365\n",
            "iteration 500 / 1000: loss 4.460000\n",
            "iteration 600 / 1000: loss 8.591524\n",
            "iteration 700 / 1000: loss 8.220342\n",
            "iteration 800 / 1000: loss 8.348839\n",
            "iteration 900 / 1000: loss 8.487802\n",
            "iteration 0 / 1000: loss 4.745000\n",
            "iteration 100 / 1000: loss 8.827352\n",
            "iteration 200 / 1000: loss 8.802684\n",
            "iteration 300 / 1000: loss 8.751566\n",
            "iteration 400 / 1000: loss 8.780789\n",
            "iteration 500 / 1000: loss 8.736987\n",
            "iteration 600 / 1000: loss 8.683803\n",
            "iteration 700 / 1000: loss 8.612716\n",
            "iteration 800 / 1000: loss 8.682744\n",
            "iteration 900 / 1000: loss 8.672551\n",
            "iteration 0 / 1000: loss 8.377670\n",
            "iteration 100 / 1000: loss 8.462107\n",
            "iteration 200 / 1000: loss 8.493683\n",
            "iteration 300 / 1000: loss 8.487652\n",
            "iteration 400 / 1000: loss 8.424661\n",
            "iteration 500 / 1000: loss 8.340517\n",
            "iteration 600 / 1000: loss 8.602766\n",
            "iteration 700 / 1000: loss 8.533044\n",
            "iteration 800 / 1000: loss 8.562656\n",
            "iteration 900 / 1000: loss 8.404023\n",
            "iteration 0 / 1000: loss 4.340000\n",
            "iteration 100 / 1000: loss 8.521291\n",
            "iteration 200 / 1000: loss 8.660823\n",
            "iteration 300 / 1000: loss 8.613377\n",
            "iteration 400 / 1000: loss 4.220000\n",
            "iteration 500 / 1000: loss 8.508083\n",
            "iteration 600 / 1000: loss 8.522004\n",
            "iteration 700 / 1000: loss 8.699428\n",
            "iteration 800 / 1000: loss 8.562350\n",
            "iteration 900 / 1000: loss 8.472729\n",
            "iteration 0 / 1000: loss 8.843074\n",
            "iteration 100 / 1000: loss 4.905000\n",
            "iteration 200 / 1000: loss 8.720245\n",
            "iteration 300 / 1000: loss 8.699499\n",
            "iteration 400 / 1000: loss 8.774704\n",
            "iteration 500 / 1000: loss 8.819354\n",
            "iteration 600 / 1000: loss 8.784593\n",
            "iteration 700 / 1000: loss 8.847967\n",
            "iteration 800 / 1000: loss 8.849505\n",
            "iteration 900 / 1000: loss 8.580080\n",
            "lr 1.000000e-09 reg 5.000000e-06 train accuracy: 0.090510 val accuracy: 0.093000\n",
            "lr 1.000000e-09 reg 5.000000e-05 train accuracy: 0.107796 val accuracy: 0.119000\n",
            "lr 1.000000e-09 reg 5.000000e-04 train accuracy: 0.100571 val accuracy: 0.108000\n",
            "lr 1.000000e-08 reg 5.000000e-06 train accuracy: 0.080694 val accuracy: 0.068000\n",
            "lr 1.000000e-08 reg 5.000000e-05 train accuracy: 0.099408 val accuracy: 0.105000\n",
            "lr 1.000000e-08 reg 5.000000e-04 train accuracy: 0.093857 val accuracy: 0.108000\n",
            "lr 1.000000e-07 reg 5.000000e-06 train accuracy: 0.080776 val accuracy: 0.079000\n",
            "lr 1.000000e-07 reg 5.000000e-05 train accuracy: 0.114367 val accuracy: 0.115000\n",
            "lr 1.000000e-07 reg 5.000000e-04 train accuracy: 0.104020 val accuracy: 0.100000\n",
            "best validation accuracy achieved during cross-validation: 0.119000\n"
          ],
          "name": "stdout"
        }
      ]
    },
    {
      "cell_type": "code",
      "metadata": {
        "id": "VQbH5kAtB7Ey",
        "colab_type": "code",
        "colab": {
          "base_uri": "https://localhost:8080/",
          "height": 33
        },
        "outputId": "03e62449-6921-46a5-f2ad-e82a34582a89"
      },
      "source": [
        "# Evaluate your trained SVM on the test set\n",
        "y_test_pred = best_svm.predict(X_test_feats)\n",
        "test_accuracy = np.mean(y_test == y_test_pred)\n",
        "print(test_accuracy)"
      ],
      "execution_count": 17,
      "outputs": [
        {
          "output_type": "stream",
          "text": [
            "0.111\n"
          ],
          "name": "stdout"
        }
      ]
    },
    {
      "cell_type": "code",
      "metadata": {
        "id": "KoUXW-WOB7FJ",
        "colab_type": "code",
        "colab": {}
      },
      "source": [
        "# An important way to gain intuition about how an algorithm works is to\n",
        "# visualize the mistakes that it makes. In this visualization, we show examples\n",
        "# of images that are misclassified by our current system. The first column\n",
        "# shows images that our system labeled as \"plane\" but whose true label is\n",
        "# something other than \"plane\".\n",
        "\n",
        "examples_per_class = 8\n",
        "classes = ['plane', 'car', 'bird', 'cat', 'deer', 'dog', 'frog', 'horse', 'ship', 'truck']\n",
        "for cls, cls_name in enumerate(classes):\n",
        "    idxs = np.where((y_test != cls) & (y_test_pred == cls))[0]\n",
        "    idxs = np.random.choice(idxs, examples_per_class, replace=False)\n",
        "    for i, idx in enumerate(idxs):\n",
        "        plt.subplot(examples_per_class, len(classes), i * len(classes) + cls + 1)\n",
        "        plt.imshow(X_test[idx].astype('uint8'))\n",
        "        plt.axis('off')\n",
        "        if i == 0:\n",
        "            plt.title(cls_name)\n",
        "plt.show()"
      ],
      "execution_count": 0,
      "outputs": []
    },
    {
      "cell_type": "markdown",
      "metadata": {
        "tags": [
          "pdf-inline"
        ],
        "id": "I73qGGmwB7FY",
        "colab_type": "text"
      },
      "source": [
        "### Inline question 1:\n",
        "Describe the misclassification results that you see. Do they make sense?\n",
        "\n",
        "\n",
        "$\\color{blue}{\\textit Your Answer:}$\n",
        "\n",
        "\n"
      ]
    },
    {
      "cell_type": "markdown",
      "metadata": {
        "id": "sb9hkXe3B7Fi",
        "colab_type": "text"
      },
      "source": [
        "## Neural Network on image features\n",
        "Earlier in this assigment we saw that training a two-layer neural network on raw pixels achieved better classification performance than linear classifiers on raw pixels. In this notebook we have seen that linear classifiers on image features outperform linear classifiers on raw pixels. \n",
        "\n",
        "For completeness, we should also try training a neural network on image features. This approach should outperform all previous approaches: you should easily be able to achieve over 55% classification accuracy on the test set; our best model achieves about 60% classification accuracy."
      ]
    },
    {
      "cell_type": "code",
      "metadata": {
        "tags": [
          "pdf-ignore"
        ],
        "id": "10xrBWeZB7Fl",
        "colab_type": "code",
        "colab": {
          "base_uri": "https://localhost:8080/",
          "height": 50
        },
        "outputId": "69a0eb54-7aca-43f2-877d-4507e6d8bb30"
      },
      "source": [
        "# Preprocessing: Remove the bias dimension\n",
        "# Make sure to run this cell only ONCE\n",
        "print(X_train_feats.shape)\n",
        "X_train_feats = X_train_feats[:, :-1]\n",
        "X_val_feats = X_val_feats[:, :-1]\n",
        "X_test_feats = X_test_feats[:, :-1]\n",
        "\n",
        "print(X_train_feats.shape)"
      ],
      "execution_count": 18,
      "outputs": [
        {
          "output_type": "stream",
          "text": [
            "(49000, 155)\n",
            "(49000, 154)\n"
          ],
          "name": "stdout"
        }
      ]
    },
    {
      "cell_type": "code",
      "metadata": {
        "tags": [
          "code"
        ],
        "id": "gwlDjvR-B7F1",
        "colab_type": "code",
        "colab": {
          "base_uri": "https://localhost:8080/",
          "height": 1000
        },
        "outputId": "3e3aa41b-0559-4f36-c9a1-cbe3832341cb"
      },
      "source": [
        "from cs231n.classifiers.neural_net import TwoLayerNet\n",
        "\n",
        "input_dim = X_train_feats.shape[1]\n",
        "hidden_dim = 500\n",
        "num_classes = 10\n",
        "\n",
        "net = TwoLayerNet(input_dim, hidden_dim, num_classes)\n",
        "best_net = None\n",
        "\n",
        "################################################################################\n",
        "# TODO: Train a two-layer neural network on image features. You may want to    #\n",
        "# cross-validate various parameters as in previous sections. Store your best   #\n",
        "# model in the best_net variable.                                              #\n",
        "################################################################################\n",
        "# *****START OF YOUR CODE (DO NOT DELETE/MODIFY THIS LINE)*****\n",
        "\n",
        "results ={}\n",
        "best_val_acc = 0\n",
        "for lr in np.arange(1,5, 1):\n",
        "    for lrd in np.arange(0.8, 1, 0.05):\n",
        "        for reg in np.arange(0.1, 0.5, 0.1):\n",
        "            net = TwoLayerNet(input_dim, hidden_dim, num_classes)\n",
        "\n",
        "            # Train the network\n",
        "            stats = net.train(X_train_feats, y_train, X_val_feats, y_val,\n",
        "                        num_iters=1000, batch_size=200,\n",
        "                        learning_rate=lr, learning_rate_decay=lrd,\n",
        "                        reg=reg, verbose=False)\n",
        "\n",
        "            # Predict on the validation set\n",
        "            val_acc = (net.predict(X_val_feats) == y_val).mean()\n",
        "            if val_acc > best_val_acc:\n",
        "                best_val_acc = val_acc\n",
        "                best_net = net\n",
        "            results[(lr, lrd,reg)] = val_acc\n",
        "# *****END OF YOUR CODE (DO NOT DELETE/MODIFY THIS LINE)*****\n",
        "for lr, lrd, reg in sorted(results):\n",
        "    val_accuracy = results[(lr, lrd, reg)]\n",
        "    print('lr %e lrd %e reg %e val accuracy: %f' % (\n",
        "                lr, lrd, reg, val_accuracy))\n",
        "\n",
        "# *****END OF YOUR CODE (DO NOT DELETE/MODIFY THIS LINE)*****\n"
      ],
      "execution_count": 26,
      "outputs": [
        {
          "output_type": "stream",
          "text": [
            "/content/drive/My Drive/DL/cs231n/classifiers/neural_net.py:107: RuntimeWarning: divide by zero encountered in log\n",
            "  return -np.log(prob_scores[i,y[i]])\n",
            "/content/drive/My Drive/DL/cs231n/classifiers/neural_net.py:103: RuntimeWarning: overflow encountered in exp\n",
            "  exp_scores = np.exp(scores)\n",
            "/content/drive/My Drive/DL/cs231n/classifiers/neural_net.py:104: RuntimeWarning: invalid value encountered in true_divide\n",
            "  prob_scores = exp_scores/np.sum(exp_scores, axis=1).reshape(N,1)\n",
            "/usr/local/lib/python3.6/dist-packages/numpy/lib/function_base.py:2167: RuntimeWarning: divide by zero encountered in ? (vectorized)\n",
            "  outputs = ufunc(*inputs)\n",
            "/content/drive/My Drive/DL/cs231n/classifiers/neural_net.py:129: RuntimeWarning: invalid value encountered in greater\n",
            "  dh = prob_scores.dot(W2.T) * (temp > 0)\n"
          ],
          "name": "stderr"
        },
        {
          "output_type": "stream",
          "text": [
            "lr 1.000000e+00 lrd 8.000000e-01 reg 1.000000e-01 val accuracy: 0.341000\n",
            "lr 1.000000e+00 lrd 8.000000e-01 reg 2.000000e-01 val accuracy: 0.235000\n",
            "lr 1.000000e+00 lrd 8.000000e-01 reg 3.000000e-01 val accuracy: 0.107000\n",
            "lr 1.000000e+00 lrd 8.000000e-01 reg 4.000000e-01 val accuracy: 0.102000\n",
            "lr 1.000000e+00 lrd 8.500000e-01 reg 1.000000e-01 val accuracy: 0.318000\n",
            "lr 1.000000e+00 lrd 8.500000e-01 reg 2.000000e-01 val accuracy: 0.253000\n",
            "lr 1.000000e+00 lrd 8.500000e-01 reg 3.000000e-01 val accuracy: 0.107000\n",
            "lr 1.000000e+00 lrd 8.500000e-01 reg 4.000000e-01 val accuracy: 0.087000\n",
            "lr 1.000000e+00 lrd 9.000000e-01 reg 1.000000e-01 val accuracy: 0.318000\n",
            "lr 1.000000e+00 lrd 9.000000e-01 reg 2.000000e-01 val accuracy: 0.185000\n",
            "lr 1.000000e+00 lrd 9.000000e-01 reg 3.000000e-01 val accuracy: 0.079000\n",
            "lr 1.000000e+00 lrd 9.000000e-01 reg 4.000000e-01 val accuracy: 0.079000\n",
            "lr 1.000000e+00 lrd 9.500000e-01 reg 1.000000e-01 val accuracy: 0.330000\n",
            "lr 1.000000e+00 lrd 9.500000e-01 reg 2.000000e-01 val accuracy: 0.196000\n",
            "lr 1.000000e+00 lrd 9.500000e-01 reg 3.000000e-01 val accuracy: 0.112000\n",
            "lr 1.000000e+00 lrd 9.500000e-01 reg 4.000000e-01 val accuracy: 0.119000\n",
            "lr 2.000000e+00 lrd 8.000000e-01 reg 1.000000e-01 val accuracy: 0.298000\n",
            "lr 2.000000e+00 lrd 8.000000e-01 reg 2.000000e-01 val accuracy: 0.215000\n",
            "lr 2.000000e+00 lrd 8.000000e-01 reg 3.000000e-01 val accuracy: 0.107000\n",
            "lr 2.000000e+00 lrd 8.000000e-01 reg 4.000000e-01 val accuracy: 0.078000\n",
            "lr 2.000000e+00 lrd 8.500000e-01 reg 1.000000e-01 val accuracy: 0.265000\n",
            "lr 2.000000e+00 lrd 8.500000e-01 reg 2.000000e-01 val accuracy: 0.202000\n",
            "lr 2.000000e+00 lrd 8.500000e-01 reg 3.000000e-01 val accuracy: 0.078000\n",
            "lr 2.000000e+00 lrd 8.500000e-01 reg 4.000000e-01 val accuracy: 0.112000\n",
            "lr 2.000000e+00 lrd 9.000000e-01 reg 1.000000e-01 val accuracy: 0.281000\n",
            "lr 2.000000e+00 lrd 9.000000e-01 reg 2.000000e-01 val accuracy: 0.206000\n",
            "lr 2.000000e+00 lrd 9.000000e-01 reg 3.000000e-01 val accuracy: 0.112000\n",
            "lr 2.000000e+00 lrd 9.000000e-01 reg 4.000000e-01 val accuracy: 0.078000\n",
            "lr 2.000000e+00 lrd 9.500000e-01 reg 1.000000e-01 val accuracy: 0.235000\n",
            "lr 2.000000e+00 lrd 9.500000e-01 reg 2.000000e-01 val accuracy: 0.176000\n",
            "lr 2.000000e+00 lrd 9.500000e-01 reg 3.000000e-01 val accuracy: 0.079000\n",
            "lr 2.000000e+00 lrd 9.500000e-01 reg 4.000000e-01 val accuracy: 0.119000\n",
            "lr 3.000000e+00 lrd 8.000000e-01 reg 1.000000e-01 val accuracy: 0.265000\n",
            "lr 3.000000e+00 lrd 8.000000e-01 reg 2.000000e-01 val accuracy: 0.190000\n",
            "lr 3.000000e+00 lrd 8.000000e-01 reg 3.000000e-01 val accuracy: 0.113000\n",
            "lr 3.000000e+00 lrd 8.000000e-01 reg 4.000000e-01 val accuracy: 0.087000\n",
            "lr 3.000000e+00 lrd 8.500000e-01 reg 1.000000e-01 val accuracy: 0.246000\n",
            "lr 3.000000e+00 lrd 8.500000e-01 reg 2.000000e-01 val accuracy: 0.102000\n",
            "lr 3.000000e+00 lrd 8.500000e-01 reg 3.000000e-01 val accuracy: 0.087000\n",
            "lr 3.000000e+00 lrd 8.500000e-01 reg 4.000000e-01 val accuracy: 0.087000\n",
            "lr 3.000000e+00 lrd 9.000000e-01 reg 1.000000e-01 val accuracy: 0.254000\n",
            "lr 3.000000e+00 lrd 9.000000e-01 reg 2.000000e-01 val accuracy: 0.113000\n",
            "lr 3.000000e+00 lrd 9.000000e-01 reg 3.000000e-01 val accuracy: 0.087000\n",
            "lr 3.000000e+00 lrd 9.000000e-01 reg 4.000000e-01 val accuracy: 0.087000\n",
            "lr 3.000000e+00 lrd 9.500000e-01 reg 1.000000e-01 val accuracy: 0.087000\n",
            "lr 3.000000e+00 lrd 9.500000e-01 reg 2.000000e-01 val accuracy: 0.087000\n",
            "lr 3.000000e+00 lrd 9.500000e-01 reg 3.000000e-01 val accuracy: 0.087000\n",
            "lr 3.000000e+00 lrd 9.500000e-01 reg 4.000000e-01 val accuracy: 0.087000\n",
            "lr 4.000000e+00 lrd 8.000000e-01 reg 1.000000e-01 val accuracy: 0.087000\n",
            "lr 4.000000e+00 lrd 8.000000e-01 reg 2.000000e-01 val accuracy: 0.105000\n",
            "lr 4.000000e+00 lrd 8.000000e-01 reg 3.000000e-01 val accuracy: 0.087000\n",
            "lr 4.000000e+00 lrd 8.000000e-01 reg 4.000000e-01 val accuracy: 0.087000\n",
            "lr 4.000000e+00 lrd 8.500000e-01 reg 1.000000e-01 val accuracy: 0.087000\n",
            "lr 4.000000e+00 lrd 8.500000e-01 reg 2.000000e-01 val accuracy: 0.102000\n",
            "lr 4.000000e+00 lrd 8.500000e-01 reg 3.000000e-01 val accuracy: 0.087000\n",
            "lr 4.000000e+00 lrd 8.500000e-01 reg 4.000000e-01 val accuracy: 0.087000\n",
            "lr 4.000000e+00 lrd 9.000000e-01 reg 1.000000e-01 val accuracy: 0.087000\n",
            "lr 4.000000e+00 lrd 9.000000e-01 reg 2.000000e-01 val accuracy: 0.087000\n",
            "lr 4.000000e+00 lrd 9.000000e-01 reg 3.000000e-01 val accuracy: 0.087000\n",
            "lr 4.000000e+00 lrd 9.000000e-01 reg 4.000000e-01 val accuracy: 0.087000\n",
            "lr 4.000000e+00 lrd 9.500000e-01 reg 1.000000e-01 val accuracy: 0.087000\n",
            "lr 4.000000e+00 lrd 9.500000e-01 reg 2.000000e-01 val accuracy: 0.087000\n",
            "lr 4.000000e+00 lrd 9.500000e-01 reg 3.000000e-01 val accuracy: 0.087000\n",
            "lr 4.000000e+00 lrd 9.500000e-01 reg 4.000000e-01 val accuracy: 0.087000\n"
          ],
          "name": "stdout"
        }
      ]
    },
    {
      "cell_type": "code",
      "metadata": {
        "id": "T8nFUODbB7GG",
        "colab_type": "code",
        "colab": {
          "base_uri": "https://localhost:8080/",
          "height": 33
        },
        "outputId": "05065bb3-ef8c-467a-c648-7761c3cdcbcc"
      },
      "source": [
        "# Run your best neural net classifier on the test set. You should be able\n",
        "# to get more than 55% accuracy.\n",
        "\n",
        "test_acc = (best_net.predict(X_test_feats) == y_test).mean()\n",
        "print(test_acc)"
      ],
      "execution_count": 28,
      "outputs": [
        {
          "output_type": "stream",
          "text": [
            "0.327\n"
          ],
          "name": "stdout"
        }
      ]
    }
  ]
}